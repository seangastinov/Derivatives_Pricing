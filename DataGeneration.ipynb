{
  "cells": [
    {
      "cell_type": "markdown",
      "metadata": {
        "id": "MfEIZZqFIKjQ"
      },
      "source": [
        "# <strong> 1. Prerequisites</strong>"
      ]
    },
    {
      "cell_type": "code",
      "execution_count": 1,
      "metadata": {
        "colab": {
          "base_uri": "https://localhost:8080/",
          "height": 1000
        },
        "id": "ZdwCSNuk57jJ",
        "outputId": "bb7be491-db7c-4002-faa4-8e29a4ff7c3a"
      },
      "outputs": [
        {
          "name": "stdout",
          "output_type": "stream",
          "text": [
            "\u001b[33mWARNING: Ignoring invalid distribution -umpy (/Users/seangastinov/.pyenv/versions/3.9.10/lib/python3.9/site-packages)\u001b[0m\n",
            "\u001b[33mWARNING: Ignoring invalid distribution -cipy (/Users/seangastinov/.pyenv/versions/3.9.10/lib/python3.9/site-packages)\u001b[0m\n",
            "\u001b[33mWARNING: Ignoring invalid distribution -umpy (/Users/seangastinov/.pyenv/versions/3.9.10/lib/python3.9/site-packages)\u001b[0m\n",
            "\u001b[33mWARNING: Ignoring invalid distribution -cipy (/Users/seangastinov/.pyenv/versions/3.9.10/lib/python3.9/site-packages)\u001b[0m\n",
            "Collecting scipy==1.7\n",
            "  Using cached scipy-1.7.0-cp39-cp39-macosx_10_9_x86_64.whl (32.1 MB)\n",
            "Collecting numpy<1.23.0,>=1.16.5\n",
            "  Using cached numpy-1.22.4-cp39-cp39-macosx_10_15_x86_64.whl (17.7 MB)\n",
            "\u001b[33mWARNING: Ignoring invalid distribution -umpy (/Users/seangastinov/.pyenv/versions/3.9.10/lib/python3.9/site-packages)\u001b[0m\n",
            "\u001b[33mWARNING: Ignoring invalid distribution -cipy (/Users/seangastinov/.pyenv/versions/3.9.10/lib/python3.9/site-packages)\u001b[0m\n",
            "Installing collected packages: numpy, scipy\n",
            "  Attempting uninstall: numpy\n",
            "\u001b[33m    WARNING: Ignoring invalid distribution -umpy (/Users/seangastinov/.pyenv/versions/3.9.10/lib/python3.9/site-packages)\u001b[0m\n",
            "\u001b[33m    WARNING: Ignoring invalid distribution -cipy (/Users/seangastinov/.pyenv/versions/3.9.10/lib/python3.9/site-packages)\u001b[0m\n",
            "    Found existing installation: numpy 2.0.2\n",
            "    Uninstalling numpy-2.0.2:\n",
            "      Successfully uninstalled numpy-2.0.2\n",
            "  Attempting uninstall: scipy\n",
            "\u001b[33m    WARNING: Ignoring invalid distribution -umpy (/Users/seangastinov/.pyenv/versions/3.9.10/lib/python3.9/site-packages)\u001b[0m\n",
            "\u001b[33m    WARNING: Ignoring invalid distribution -cipy (/Users/seangastinov/.pyenv/versions/3.9.10/lib/python3.9/site-packages)\u001b[0m\n",
            "    Found existing installation: scipy 1.13.1\n",
            "    Uninstalling scipy-1.13.1:\n",
            "      Successfully uninstalled scipy-1.13.1\n",
            "\u001b[33mWARNING: Ignoring invalid distribution -umpy (/Users/seangastinov/.pyenv/versions/3.9.10/lib/python3.9/site-packages)\u001b[0m\n",
            "\u001b[33mWARNING: Ignoring invalid distribution -cipy (/Users/seangastinov/.pyenv/versions/3.9.10/lib/python3.9/site-packages)\u001b[0m\n",
            "\u001b[33mWARNING: Ignoring invalid distribution -umpy (/Users/seangastinov/.pyenv/versions/3.9.10/lib/python3.9/site-packages)\u001b[0m\n",
            "\u001b[33mWARNING: Ignoring invalid distribution -cipy (/Users/seangastinov/.pyenv/versions/3.9.10/lib/python3.9/site-packages)\u001b[0m\n",
            "\u001b[31mERROR: pip's dependency resolver does not currently take into account all the packages that are installed. This behaviour is the source of the following dependency conflicts.\n",
            "matplotlib 3.9.2 requires numpy>=1.23, but you have numpy 1.22.4 which is incompatible.\n",
            "contourpy 1.3.0 requires numpy>=1.23, but you have numpy 1.22.4 which is incompatible.\u001b[0m\n",
            "Successfully installed numpy-1.22.4 scipy-1.7.0\n",
            "\u001b[33mWARNING: Ignoring invalid distribution -umpy (/Users/seangastinov/.pyenv/versions/3.9.10/lib/python3.9/site-packages)\u001b[0m\n",
            "\u001b[33mWARNING: Ignoring invalid distribution -cipy (/Users/seangastinov/.pyenv/versions/3.9.10/lib/python3.9/site-packages)\u001b[0m\n",
            "\u001b[33mWARNING: Ignoring invalid distribution -umpy (/Users/seangastinov/.pyenv/versions/3.9.10/lib/python3.9/site-packages)\u001b[0m\n",
            "\u001b[33mWARNING: Ignoring invalid distribution -cipy (/Users/seangastinov/.pyenv/versions/3.9.10/lib/python3.9/site-packages)\u001b[0m\n",
            "\u001b[33mWARNING: Ignoring invalid distribution -umpy (/Users/seangastinov/.pyenv/versions/3.9.10/lib/python3.9/site-packages)\u001b[0m\n",
            "\u001b[33mWARNING: Ignoring invalid distribution -cipy (/Users/seangastinov/.pyenv/versions/3.9.10/lib/python3.9/site-packages)\u001b[0m\n",
            "\u001b[33mWARNING: You are using pip version 21.2.4; however, version 24.3.1 is available.\n",
            "You should consider upgrading via the '/Users/seangastinov/.pyenv/versions/3.9.10/bin/python3.9 -m pip install --upgrade pip' command.\u001b[0m\n",
            "\u001b[33mWARNING: Ignoring invalid distribution -umpy (/Users/seangastinov/.pyenv/versions/3.9.10/lib/python3.9/site-packages)\u001b[0m\n",
            "\u001b[33mWARNING: Ignoring invalid distribution -cipy (/Users/seangastinov/.pyenv/versions/3.9.10/lib/python3.9/site-packages)\u001b[0m\n",
            "\u001b[33mWARNING: Ignoring invalid distribution -umpy (/Users/seangastinov/.pyenv/versions/3.9.10/lib/python3.9/site-packages)\u001b[0m\n",
            "\u001b[33mWARNING: Ignoring invalid distribution -cipy (/Users/seangastinov/.pyenv/versions/3.9.10/lib/python3.9/site-packages)\u001b[0m\n",
            "Requirement already satisfied: smt in /Users/seangastinov/.pyenv/versions/3.9.10/lib/python3.9/site-packages (2.7.0)\n",
            "Requirement already satisfied: pyDOE3 in /Users/seangastinov/.pyenv/versions/3.9.10/lib/python3.9/site-packages (from smt) (1.0.4)\n",
            "Requirement already satisfied: scipy in /Users/seangastinov/.pyenv/versions/3.9.10/lib/python3.9/site-packages (from smt) (1.7.0)\n",
            "Requirement already satisfied: scikit-learn in /Users/seangastinov/.pyenv/versions/3.9.10/lib/python3.9/site-packages (from smt) (1.5.2)\n",
            "Requirement already satisfied: jenn in /Users/seangastinov/.pyenv/versions/3.9.10/lib/python3.9/site-packages (from smt) (1.0.8)\n",
            "Requirement already satisfied: jsonschema>=4.22 in /Users/seangastinov/.pyenv/versions/3.9.10/lib/python3.9/site-packages (from jenn->smt) (4.23.0)\n",
            "Requirement already satisfied: numpy>=1.22 in /Users/seangastinov/.pyenv/versions/3.9.10/lib/python3.9/site-packages (from jenn->smt) (1.22.4)\n",
            "Requirement already satisfied: matplotlib in /Users/seangastinov/.pyenv/versions/3.9.10/lib/python3.9/site-packages (from jenn->smt) (3.9.2)\n",
            "Requirement already satisfied: orjson>=3.9 in /Users/seangastinov/.pyenv/versions/3.9.10/lib/python3.9/site-packages (from jenn->smt) (3.10.10)\n",
            "Requirement already satisfied: jsonpointer>=2.4 in /Users/seangastinov/.pyenv/versions/3.9.10/lib/python3.9/site-packages (from jenn->smt) (3.0.0)\n",
            "Requirement already satisfied: jsonschema-specifications>=2023.03.6 in /Users/seangastinov/.pyenv/versions/3.9.10/lib/python3.9/site-packages (from jsonschema>=4.22->jenn->smt) (2024.10.1)\n",
            "Requirement already satisfied: attrs>=22.2.0 in /Users/seangastinov/.pyenv/versions/3.9.10/lib/python3.9/site-packages (from jsonschema>=4.22->jenn->smt) (24.2.0)\n",
            "Requirement already satisfied: rpds-py>=0.7.1 in /Users/seangastinov/.pyenv/versions/3.9.10/lib/python3.9/site-packages (from jsonschema>=4.22->jenn->smt) (0.20.0)\n",
            "Requirement already satisfied: referencing>=0.28.4 in /Users/seangastinov/.pyenv/versions/3.9.10/lib/python3.9/site-packages (from jsonschema>=4.22->jenn->smt) (0.35.1)\n",
            "Collecting numpy>=1.22\n",
            "  Using cached numpy-2.0.2-cp39-cp39-macosx_14_0_x86_64.whl (6.9 MB)\n",
            "Requirement already satisfied: fonttools>=4.22.0 in /Users/seangastinov/.pyenv/versions/3.9.10/lib/python3.9/site-packages (from matplotlib->jenn->smt) (4.54.1)\n",
            "Requirement already satisfied: pillow>=8 in /Users/seangastinov/.pyenv/versions/3.9.10/lib/python3.9/site-packages (from matplotlib->jenn->smt) (11.0.0)\n",
            "Requirement already satisfied: cycler>=0.10 in /Users/seangastinov/.pyenv/versions/3.9.10/lib/python3.9/site-packages (from matplotlib->jenn->smt) (0.12.1)\n",
            "Requirement already satisfied: importlib-resources>=3.2.0 in /Users/seangastinov/.pyenv/versions/3.9.10/lib/python3.9/site-packages (from matplotlib->jenn->smt) (6.4.5)\n",
            "Requirement already satisfied: python-dateutil>=2.7 in /Users/seangastinov/.pyenv/versions/3.9.10/lib/python3.9/site-packages (from matplotlib->jenn->smt) (2.9.0.post0)\n",
            "Requirement already satisfied: pyparsing>=2.3.1 in /Users/seangastinov/.pyenv/versions/3.9.10/lib/python3.9/site-packages (from matplotlib->jenn->smt) (3.2.0)\n",
            "Requirement already satisfied: packaging>=20.0 in /Users/seangastinov/.pyenv/versions/3.9.10/lib/python3.9/site-packages (from matplotlib->jenn->smt) (24.1)\n",
            "Requirement already satisfied: contourpy>=1.0.1 in /Users/seangastinov/.pyenv/versions/3.9.10/lib/python3.9/site-packages (from matplotlib->jenn->smt) (1.3.0)\n",
            "Requirement already satisfied: kiwisolver>=1.3.1 in /Users/seangastinov/.pyenv/versions/3.9.10/lib/python3.9/site-packages (from matplotlib->jenn->smt) (1.4.7)\n",
            "Requirement already satisfied: zipp>=3.1.0 in /Users/seangastinov/.pyenv/versions/3.9.10/lib/python3.9/site-packages (from importlib-resources>=3.2.0->matplotlib->jenn->smt) (3.20.2)\n",
            "Requirement already satisfied: six>=1.5 in /Users/seangastinov/.pyenv/versions/3.9.10/lib/python3.9/site-packages (from python-dateutil>=2.7->matplotlib->jenn->smt) (1.16.0)\n",
            "Requirement already satisfied: threadpoolctl>=3.1.0 in /Users/seangastinov/.pyenv/versions/3.9.10/lib/python3.9/site-packages (from scikit-learn->smt) (3.5.0)\n",
            "Requirement already satisfied: joblib>=1.2.0 in /Users/seangastinov/.pyenv/versions/3.9.10/lib/python3.9/site-packages (from scikit-learn->smt) (1.4.2)\n",
            "Collecting scipy\n",
            "  Using cached scipy-1.13.1-cp39-cp39-macosx_10_9_x86_64.whl (39.4 MB)\n",
            "\u001b[33mWARNING: Ignoring invalid distribution -umpy (/Users/seangastinov/.pyenv/versions/3.9.10/lib/python3.9/site-packages)\u001b[0m\n",
            "\u001b[33mWARNING: Ignoring invalid distribution -cipy (/Users/seangastinov/.pyenv/versions/3.9.10/lib/python3.9/site-packages)\u001b[0m\n",
            "Installing collected packages: numpy, scipy\n",
            "  Attempting uninstall: numpy\n",
            "\u001b[33m    WARNING: Ignoring invalid distribution -umpy (/Users/seangastinov/.pyenv/versions/3.9.10/lib/python3.9/site-packages)\u001b[0m\n",
            "\u001b[33m    WARNING: Ignoring invalid distribution -cipy (/Users/seangastinov/.pyenv/versions/3.9.10/lib/python3.9/site-packages)\u001b[0m\n",
            "    Found existing installation: numpy 1.22.4\n",
            "    Uninstalling numpy-1.22.4:\n",
            "      Successfully uninstalled numpy-1.22.4\n",
            "  Attempting uninstall: scipy\n",
            "\u001b[33m    WARNING: Ignoring invalid distribution -umpy (/Users/seangastinov/.pyenv/versions/3.9.10/lib/python3.9/site-packages)\u001b[0m\n",
            "\u001b[33m    WARNING: Ignoring invalid distribution -cipy (/Users/seangastinov/.pyenv/versions/3.9.10/lib/python3.9/site-packages)\u001b[0m\n",
            "    Found existing installation: scipy 1.7.0\n",
            "    Uninstalling scipy-1.7.0:\n",
            "      Successfully uninstalled scipy-1.7.0\n",
            "\u001b[33mWARNING: Ignoring invalid distribution -umpy (/Users/seangastinov/.pyenv/versions/3.9.10/lib/python3.9/site-packages)\u001b[0m\n",
            "\u001b[33mWARNING: Ignoring invalid distribution -cipy (/Users/seangastinov/.pyenv/versions/3.9.10/lib/python3.9/site-packages)\u001b[0m\n",
            "\u001b[33mWARNING: Ignoring invalid distribution -umpy (/Users/seangastinov/.pyenv/versions/3.9.10/lib/python3.9/site-packages)\u001b[0m\n",
            "\u001b[33mWARNING: Ignoring invalid distribution -cipy (/Users/seangastinov/.pyenv/versions/3.9.10/lib/python3.9/site-packages)\u001b[0m\n",
            "\u001b[31mERROR: pip's dependency resolver does not currently take into account all the packages that are installed. This behaviour is the source of the following dependency conflicts.\n",
            "torchmetrics 1.5.1 requires numpy<2.0,>1.20.0, but you have numpy 2.0.2 which is incompatible.\u001b[0m\n",
            "Successfully installed numpy-2.0.2 scipy-1.13.1\n",
            "\u001b[33mWARNING: Ignoring invalid distribution -umpy (/Users/seangastinov/.pyenv/versions/3.9.10/lib/python3.9/site-packages)\u001b[0m\n",
            "\u001b[33mWARNING: Ignoring invalid distribution -cipy (/Users/seangastinov/.pyenv/versions/3.9.10/lib/python3.9/site-packages)\u001b[0m\n",
            "\u001b[33mWARNING: Ignoring invalid distribution -umpy (/Users/seangastinov/.pyenv/versions/3.9.10/lib/python3.9/site-packages)\u001b[0m\n",
            "\u001b[33mWARNING: Ignoring invalid distribution -cipy (/Users/seangastinov/.pyenv/versions/3.9.10/lib/python3.9/site-packages)\u001b[0m\n",
            "\u001b[33mWARNING: Ignoring invalid distribution -umpy (/Users/seangastinov/.pyenv/versions/3.9.10/lib/python3.9/site-packages)\u001b[0m\n",
            "\u001b[33mWARNING: Ignoring invalid distribution -cipy (/Users/seangastinov/.pyenv/versions/3.9.10/lib/python3.9/site-packages)\u001b[0m\n",
            "\u001b[33mWARNING: You are using pip version 21.2.4; however, version 24.3.1 is available.\n",
            "You should consider upgrading via the '/Users/seangastinov/.pyenv/versions/3.9.10/bin/python3.9 -m pip install --upgrade pip' command.\u001b[0m\n",
            "\u001b[33mWARNING: Ignoring invalid distribution -umpy (/Users/seangastinov/.pyenv/versions/3.9.10/lib/python3.9/site-packages)\u001b[0m\n",
            "\u001b[33mWARNING: Ignoring invalid distribution -cipy (/Users/seangastinov/.pyenv/versions/3.9.10/lib/python3.9/site-packages)\u001b[0m\n",
            "\u001b[33mWARNING: Ignoring invalid distribution -umpy (/Users/seangastinov/.pyenv/versions/3.9.10/lib/python3.9/site-packages)\u001b[0m\n",
            "\u001b[33mWARNING: Ignoring invalid distribution -cipy (/Users/seangastinov/.pyenv/versions/3.9.10/lib/python3.9/site-packages)\u001b[0m\n",
            "Requirement already satisfied: pandas in /Users/seangastinov/.pyenv/versions/3.9.10/lib/python3.9/site-packages (2.2.3)\n",
            "Requirement already satisfied: pytz>=2020.1 in /Users/seangastinov/.pyenv/versions/3.9.10/lib/python3.9/site-packages (from pandas) (2024.2)\n",
            "Requirement already satisfied: numpy>=1.22.4 in /Users/seangastinov/.pyenv/versions/3.9.10/lib/python3.9/site-packages (from pandas) (2.0.2)\n",
            "Requirement already satisfied: tzdata>=2022.7 in /Users/seangastinov/.pyenv/versions/3.9.10/lib/python3.9/site-packages (from pandas) (2024.2)\n",
            "Requirement already satisfied: python-dateutil>=2.8.2 in /Users/seangastinov/.pyenv/versions/3.9.10/lib/python3.9/site-packages (from pandas) (2.9.0.post0)\n",
            "Requirement already satisfied: six>=1.5 in /Users/seangastinov/.pyenv/versions/3.9.10/lib/python3.9/site-packages (from python-dateutil>=2.8.2->pandas) (1.16.0)\n",
            "\u001b[33mWARNING: Ignoring invalid distribution -umpy (/Users/seangastinov/.pyenv/versions/3.9.10/lib/python3.9/site-packages)\u001b[0m\n",
            "\u001b[33mWARNING: Ignoring invalid distribution -cipy (/Users/seangastinov/.pyenv/versions/3.9.10/lib/python3.9/site-packages)\u001b[0m\n",
            "\u001b[33mWARNING: Ignoring invalid distribution -umpy (/Users/seangastinov/.pyenv/versions/3.9.10/lib/python3.9/site-packages)\u001b[0m\n",
            "\u001b[33mWARNING: Ignoring invalid distribution -cipy (/Users/seangastinov/.pyenv/versions/3.9.10/lib/python3.9/site-packages)\u001b[0m\n",
            "\u001b[33mWARNING: Ignoring invalid distribution -umpy (/Users/seangastinov/.pyenv/versions/3.9.10/lib/python3.9/site-packages)\u001b[0m\n",
            "\u001b[33mWARNING: Ignoring invalid distribution -cipy (/Users/seangastinov/.pyenv/versions/3.9.10/lib/python3.9/site-packages)\u001b[0m\n",
            "\u001b[33mWARNING: Ignoring invalid distribution -umpy (/Users/seangastinov/.pyenv/versions/3.9.10/lib/python3.9/site-packages)\u001b[0m\n",
            "\u001b[33mWARNING: Ignoring invalid distribution -cipy (/Users/seangastinov/.pyenv/versions/3.9.10/lib/python3.9/site-packages)\u001b[0m\n",
            "\u001b[33mWARNING: You are using pip version 21.2.4; however, version 24.3.1 is available.\n",
            "You should consider upgrading via the '/Users/seangastinov/.pyenv/versions/3.9.10/bin/python3.9 -m pip install --upgrade pip' command.\u001b[0m\n"
          ]
        }
      ],
      "source": [
        "!pip install scipy==1.7\n",
        "!pip install smt # for Latin Hypercube sampling\n",
        "!pip install pandas"
      ]
    },
    {
      "cell_type": "code",
      "execution_count": 2,
      "metadata": {
        "id": "Z9dUmHDGNUXd"
      },
      "outputs": [],
      "source": [
        "import os\n",
        "import sys\n",
        "import numpy as np\n",
        "import pandas as pd\n",
        "from pandas import DataFrame\n",
        "import matplotlib.pyplot as plt\n",
        "import time\n",
        "import datetime\n",
        "np.random.seed(42) # set a seed for the random generator\n",
        "from smt.sampling_methods import LHS\n",
        "# scipy\n",
        "from scipy.integrate import quad_vec  # quad_vec allows to compute integrals accurately\n",
        "from scipy.stats import norm\n",
        "from scipy.stats import qmc # to perform Latin Hypercube Sampling (LHS) \n",
        "\n"
      ]
    },
    {
      "cell_type": "markdown",
      "metadata": {
        "id": "6Gq8g8xtINPf"
      },
      "source": [
        "# <strong> 2. European Call & Put prices </strong>"
      ]
    },
    {
      "cell_type": "markdown",
      "metadata": {
        "id": "o6ox6vK7vN49"
      },
      "source": [
        "## <Strong><font>2.1. Implement the characteristic function</font></Strong>"
      ]
    },
    {
      "cell_type": "code",
      "execution_count": null,
      "metadata": {
        "id": "JHbM6puCu89h"
      },
      "outputs": [],
      "source": [
        "def beta_function(u, tau, sigma, rho, kappa):\n",
        "    return kappa - 1j * u * sigma * rho\n",
        "\n",
        "def alpha_hat_function(u):\n",
        "    return -0.5 * u * (u + 1j)\n",
        "\n",
        "def d_function(u, tau, sigma, rho, kappa):\n",
        "    gamma = 0.5 * sigma**2\n",
        "    beta = beta_function(u, tau, sigma, rho, kappa)\n",
        "    alpha_hat = alpha_hat_function(u)\n",
        "    return np.sqrt(beta**2 - 4 * alpha_hat * gamma)\n",
        "\n",
        "def g_function(u, tau, sigma, rho, kappa):\n",
        "    beta = beta_function(u, tau, sigma, rho, kappa)\n",
        "    d = d_function(u, tau, sigma, rho, kappa)\n",
        "    return (beta - d) / (beta + d)\n",
        "\n",
        "def A_function(u, tau, theta, sigma, rho, kappa):\n",
        "    beta = beta_function(u, tau, sigma, rho, kappa)\n",
        "    d = d_function(u, tau, sigma, rho, kappa)\n",
        "    g = g_function(u, tau, sigma, rho, kappa)\n",
        "    common_term = np.exp(-d*tau)\n",
        "    A_u = (kappa * theta / (sigma**2)) * ((beta-d)*tau - 2*np.log((g*common_term-1) / (g-1)))    \n",
        "    return A_u\n",
        "\n",
        "def B_function(u, tau, sigma, rho, kappa):\n",
        "    beta = beta_function(u, tau, sigma, rho, kappa)\n",
        "    d = d_function(u, tau, sigma, rho, kappa)\n",
        "    g = g_function(u, tau, sigma, rho, kappa)\n",
        "    common_term = np.exp(-d*tau)\n",
        "    B_u = ((beta-d) / (sigma**2)) * ((1 - common_term) / (1 - g*common_term))\n",
        "    return B_u\n"
      ]
    },
    {
      "cell_type": "code",
      "execution_count": null,
      "metadata": {
        "id": "yX-SzB0exN26"
      },
      "outputs": [],
      "source": [
        "def heston_charact_funct(u, tau, theta, sigma, rho, kappa, v0):\n",
        "\n",
        "    beta = beta_function(u, tau, sigma, rho, kappa)    \n",
        "    #alpha_hat = alpha_hat_function(u)    \n",
        "    d = d_function(u, tau, sigma, rho, kappa)\n",
        "    g = g_function(u, tau, sigma, rho, kappa)\n",
        "    common_term = np.exp(-d*tau)\n",
        "    A = A_function(u, tau, theta, sigma, rho, kappa)\n",
        "    B = B_function(u, tau, sigma, rho, kappa)\n",
        "\n",
        "    return np.exp(A + B * v0)"
      ]
    },
    {
      "cell_type": "markdown",
      "metadata": {
        "id": "JMa0ekMEFktV"
      },
      "source": [
        "## <Strong><font>2.2. Perform numerical integration</font></Strong>: using scipy integrate quad_vec function"
      ]
    },
    {
      "cell_type": "code",
      "execution_count": null,
      "metadata": {
        "id": "BVAEGGsAxuCu"
      },
      "outputs": [],
      "source": [
        "def integral_price(m, tau, theta, sigma, rho, kappa, v0):\n",
        "    integrand = (lambda u: \n",
        "        np.real(np.exp((1j*u + 0.5)*m)*heston_charact_funct(u - 0.5j, tau, theta, sigma, rho, kappa, v0))/(u**2 + 0.25))\n",
        "\n",
        "    integ, err = quad_vec(integrand, 0, np.inf)\n",
        "    return integ"
      ]
    },
    {
      "cell_type": "markdown",
      "metadata": {
        "id": "iYBU_5Cy1OCL"
      },
      "source": [
        "## <Strong><font>2.3. Calculate European Call price </font></Strong>"
      ]
    },
    {
      "cell_type": "code",
      "execution_count": null,
      "metadata": {
        "id": "h5qOq54Z1CX-"
      },
      "outputs": [],
      "source": [
        "def call_price(k, tau, S0, r, theta, sigma, rho, kappa, v0):\n",
        "    m = np.log(S0/k) + r*tau #log-moneyness forward\n",
        "    integ = integral_price(m, tau, theta, sigma, rho, kappa, v0)  \n",
        "    price = S0 - k * np.exp(-r*tau) * integ  /np.pi\n",
        "         \n",
        "    return price"
      ]
    },
    {
      "cell_type": "markdown",
      "metadata": {
        "id": "DKAdJemM7WNJ"
      },
      "source": [
        "## <Strong><font>2.4. Calculate European put price </font></Strong>: using the call-put parity relation\n"
      ]
    },
    {
      "cell_type": "code",
      "execution_count": null,
      "metadata": {
        "id": "Dxaay3fh7d0B"
      },
      "outputs": [],
      "source": [
        "def put_price(k, tau, S0, r, theta, sigma, rho, kappa, v0):\n",
        "    price = call_price(k, tau, S0, r, theta, sigma, rho, kappa, v0)- S0 + k * np.exp(-r*tau)\n",
        "    return price"
      ]
    },
    {
      "cell_type": "markdown",
      "metadata": {
        "id": "MXB1HAnESbJu"
      },
      "source": [
        "## 2.5. Calculate the Normalised Forward Put Price $\\hat{P}$\n",
        "$\\hat{P}(t,S_t,v_t) = \\frac{e^{rT}}{K} P(t,S_t,v_t)$"
      ]
    },
    {
      "cell_type": "code",
      "execution_count": null,
      "metadata": {
        "id": "-3T9H-gsTOBd"
      },
      "outputs": [],
      "source": [
        "def norm_forw_put_price(lm, r, tau, theta, sigma, rho, kappa, v0):\n",
        "    m = lm + r*tau #log-moneyness forward\n",
        "    integ = integral_price(m, tau, theta, sigma, rho, kappa, v0)\n",
        "    return 1 - (1/np.pi) * integ"
      ]
    },
    {
      "cell_type": "markdown",
      "metadata": {
        "id": "9EVHPImhwKYg"
      },
      "source": [
        "# <strong> 3. Differential of the Normalised Forward Put Price w.r.t inputs </strong> "
      ]
    },
    {
      "cell_type": "code",
      "execution_count": null,
      "metadata": {
        "id": "Gsd5Kb6SBuqR"
      },
      "outputs": [],
      "source": [
        "def integral_delta(m, tau, theta, sigma, rho, kappa, v0):\n",
        "    integrand = (lambda u: \n",
        "        np.real((1j*u + 0.5) * np.exp((1j*u + 0.5)*m)*heston_charact_funct(u - 0.5j, tau, theta, sigma, rho, kappa, v0))/(u**2 + 0.25))\n",
        "\n",
        "    integ, err = quad_vec(integrand, 0, np.inf)\n",
        "    return integ"
      ]
    },
    {
      "cell_type": "code",
      "execution_count": null,
      "metadata": {
        "id": "asTqtwTaBNRg"
      },
      "outputs": [],
      "source": [
        "def term_interm_theta(u, tau, sigma, rho, theta, kappa, v0):\n",
        "    beta = beta_function(u, tau, sigma, rho, kappa)\n",
        "    d = d_function(u, tau, sigma, rho, kappa)\n",
        "    g = g_function(u, tau, sigma, rho, kappa)\n",
        "\n",
        "    term1 = kappa*theta * (beta-d+2*((d*g*np.exp(-d*tau)) / ((g*np.exp(-d*tau))-1))) /(sigma**2)\n",
        "    term2 = v0*(beta-d)*d * np.exp(-d*tau)*(1-g)/((sigma**2)*(1-g*np.exp(-d*tau))**2)\n",
        "    term = term1 + term2\n",
        "\n",
        "    return term    "
      ]
    },
    {
      "cell_type": "code",
      "execution_count": null,
      "metadata": {
        "id": "lXdEeT_-2NfC"
      },
      "outputs": [],
      "source": [
        "def integral_differential_phi_tau(m, tau, sigma, rho, theta, kappa, v0):\n",
        "\n",
        "    integrand = (lambda u: \n",
        "        np.real(np.exp((1j*u + 0.5)*m)*heston_charact_funct(u - 0.5j, tau, theta, sigma, rho, kappa, v0) * \n",
        "                term_interm_theta(u - 0.5j, tau, sigma, rho, theta, kappa, v0))  /(u**2 + 0.25))\n",
        "\n",
        "    integ, err = quad_vec(integrand, 0, np.inf)\n",
        "    return integ"
      ]
    },
    {
      "cell_type": "markdown",
      "metadata": {
        "id": "8w1ZnWQmvVPT"
      },
      "source": [
        "## 3.1. $\\frac{\\partial \\hat{P}}{\\partial \\theta}$"
      ]
    },
    {
      "cell_type": "code",
      "execution_count": null,
      "metadata": {
        "id": "QFqLrMchhRAA"
      },
      "outputs": [],
      "source": [
        "def differential_wrt_theta(lm, r, tau, theta, sigma, rho, kappa, v0):\n",
        "    m = lm + r * tau     #log-moneyness forward\n",
        "    if theta == 0.:\n",
        "        theta = 0.00000001\n",
        "    \n",
        "    integrand = (lambda u: \n",
        "        np.real((1/theta) * np.exp((1j*u + 0.5)*m)* A_function(u - 0.5j, tau, theta, sigma, rho, kappa) * heston_charact_funct(u - 0.5j, tau, theta, sigma, rho, kappa, v0))/(u**2 + 0.25))\n",
        "\n",
        "    integ, err = quad_vec(integrand, 0, np.inf)\n",
        "    return (-1/np.pi) * integ"
      ]
    },
    {
      "cell_type": "markdown",
      "metadata": {
        "id": "L1g-8wx2ZItd"
      },
      "source": [
        "## 3.2. $\\frac{\\partial \\hat{P}}{\\partial lm}$\n",
        "lm is the log-moneyness"
      ]
    },
    {
      "cell_type": "code",
      "execution_count": null,
      "metadata": {
        "id": "-3Je43dQL-7U"
      },
      "outputs": [],
      "source": [
        "def differential_wrt_lm(lm, r, tau, theta, sigma, rho, kappa, v0):\n",
        "    m = lm + r * tau #log-moneyness forward\n",
        "    res = - (1/np.pi) * integral_delta(m, tau, theta, sigma, rho, kappa, v0)\n",
        "    return res"
      ]
    },
    {
      "cell_type": "markdown",
      "metadata": {
        "id": "oltdZ4KdY5sl"
      },
      "source": [
        "## 3.3. $\\frac{\\partial \\hat{P}}{\\partial v_o}$"
      ]
    },
    {
      "cell_type": "code",
      "execution_count": null,
      "metadata": {
        "id": "8Dxzc-V-Y49L"
      },
      "outputs": [],
      "source": [
        "def differential_wrt_v0(lm, r, tau, theta, sigma, rho, kappa, v0):    \n",
        "    m = lm + r * tau #log-moneyness forward\n",
        "    integrand = (lambda u: \n",
        "        np.real(np.exp((1j*u + 0.5)*m)* B_function(u - 0.5j, tau, sigma, rho, kappa) * heston_charact_funct(u - 0.5j, tau, theta, sigma, rho, kappa, v0))/(u**2 + 0.25))\n",
        "\n",
        "    integ, err = quad_vec(integrand, 0, np.inf)\n",
        "    return (-1/np.pi) * integ"
      ]
    },
    {
      "cell_type": "markdown",
      "metadata": {
        "id": "j4MziFUaovMY"
      },
      "source": [
        "## 3.4. $\\frac{\\partial \\hat{P}}{\\partial \\tau}$"
      ]
    },
    {
      "cell_type": "code",
      "execution_count": null,
      "metadata": {
        "id": "Af8OipM_oxvJ"
      },
      "outputs": [],
      "source": [
        "def differential_wrt_tau(lm, r, tau, theta, sigma, rho, kappa, v0):    \n",
        "    m = lm + r * tau #log-moneyness forward\n",
        "    integ1 = integral_delta(m, tau, theta, sigma, rho, kappa, v0)\n",
        "    integ2 = integral_differential_phi_tau(m, tau, sigma, rho, theta, kappa, v0)   \n",
        "\n",
        "    return (-1/np.pi) * (r * integ1 + integ2)"
      ]
    },
    {
      "cell_type": "markdown",
      "metadata": {
        "id": "G8RasJ3nsaCW"
      },
      "source": [
        "## 3.5. $\\frac{\\partial \\hat{P}}{\\partial \\kappa}$"
      ]
    },
    {
      "cell_type": "code",
      "execution_count": null,
      "metadata": {
        "id": "aZMk4Gjw0lWL"
      },
      "outputs": [],
      "source": [
        "def differential_A_kappa(u, tau, theta, sigma, rho, kappa):\n",
        "    beta = beta_function(u, tau, sigma, rho, kappa)\n",
        "    d = d_function(u, tau, sigma, rho, kappa)\n",
        "    g = g_function(u, tau, sigma, rho, kappa)\n",
        "    A_u = A_function(u, tau, theta, sigma, rho, kappa)\n",
        "\n",
        "    res = A_u/kappa - (kappa * theta / (d * (sigma**2))) * (-d*tau+tau*beta+4*g/(g-1)+2*g*np.exp(-d*tau)*(2+tau*beta)/(1-g*np.exp(-d*tau)))\n",
        "    return res"
      ]
    },
    {
      "cell_type": "code",
      "execution_count": null,
      "metadata": {
        "id": "6DWgewKv5The"
      },
      "outputs": [],
      "source": [
        "def differential_B_kappa(u, tau, theta, sigma, rho, kappa):\n",
        "    beta = beta_function(u, tau, sigma, rho, kappa)\n",
        "    d = d_function(u, tau, sigma, rho, kappa)\n",
        "    g = g_function(u, tau, sigma, rho, kappa)\n",
        "    B_u = B_function(u, tau, sigma, rho, kappa) \n",
        "\n",
        "    res = -B_u/d + (1/d) * (tau*beta*np.exp(-d*tau)*B_u/(1-np.exp(-d*tau)) - g*np.exp(-d*tau)*(2+tau*beta)*B_u/(1-g*np.exp(-d*tau)))\n",
        "    return res"
      ]
    },
    {
      "cell_type": "code",
      "execution_count": null,
      "metadata": {
        "id": "6HVO5F3KysAJ"
      },
      "outputs": [],
      "source": [
        "def differential_phi_kappa(u, tau, theta, sigma, rho, kappa, v0):\n",
        "    return heston_charact_funct(u, tau, theta, sigma, rho, kappa, v0) * (differential_A_kappa(u, tau, theta, sigma, rho, kappa) +\n",
        "                                                                         v0 * differential_B_kappa(u, tau, theta, sigma, rho, kappa))\n"
      ]
    },
    {
      "cell_type": "code",
      "execution_count": null,
      "metadata": {
        "id": "0w1j98WDsi9B"
      },
      "outputs": [],
      "source": [
        "def differential_wrt_kappa(lm, r, tau, theta, sigma, rho, kappa, v0): \n",
        "    m = lm + r*tau   #log-moneyness forward   \n",
        "    integrand = (lambda u: \n",
        "        np.real(np.exp((1j*u + 0.5)*m) * differential_phi_kappa(u - 0.5j, tau, theta, sigma, rho, kappa, v0))/(u**2 + 0.25))\n",
        "\n",
        "    integ, err = quad_vec(integrand, 0, np.inf)\n",
        "    return (-1/np.pi) * integ   "
      ]
    },
    {
      "cell_type": "markdown",
      "metadata": {
        "id": "ZQXeX_DR9AV2"
      },
      "source": [
        "## 3.6. $\\frac{\\partial \\hat{P}}{\\partial \\rho}$"
      ]
    },
    {
      "cell_type": "code",
      "execution_count": null,
      "metadata": {
        "id": "KDetEOkD-gTE"
      },
      "outputs": [],
      "source": [
        "def differential_A_rho(u, tau, theta, sigma, rho, kappa):\n",
        "    beta = beta_function(u, tau, sigma, rho, kappa)\n",
        "    d = d_function(u, tau, sigma, rho, kappa)\n",
        "    g = g_function(u, tau, sigma, rho, kappa)\n",
        "\n",
        "    res = (kappa*theta*1j*u/(d*sigma)) * (tau*(beta-d)-2*g*(np.exp(-d*tau)*(2+tau*beta)/(g*np.exp(-d*tau)-1)-2/(g-1)))\n",
        "    return res "
      ]
    },
    {
      "cell_type": "code",
      "execution_count": null,
      "metadata": {
        "id": "ytxNOYc9CJuG"
      },
      "outputs": [],
      "source": [
        "def differential_B_rho(u, tau, sigma, rho, kappa):\n",
        "    beta = beta_function(u, tau, sigma, rho, kappa)\n",
        "    d = d_function(u, tau, sigma, rho, kappa)\n",
        "    g = g_function(u, tau, sigma, rho, kappa)\n",
        "    B_u = B_function(u, tau, sigma, rho, kappa) \n",
        "\n",
        "    res = (1j*u*sigma*B_u/d) * (1+np.exp(-d*tau)*(-tau*beta/(1-np.exp(-d*tau))+g*(2+tau*beta)/(1-g*np.exp(-d*tau))))\n",
        "    return res"
      ]
    },
    {
      "cell_type": "code",
      "execution_count": null,
      "metadata": {
        "id": "Hd1yTNHz9cIF"
      },
      "outputs": [],
      "source": [
        "def differential_phi_rho(u, tau, theta, sigma, rho, kappa, v0):\n",
        "    return heston_charact_funct(u, tau, theta, sigma, rho, kappa, v0) * (differential_A_rho(u, tau, theta, sigma, rho, kappa) +\n",
        "                                                                         v0 * differential_B_rho(u, tau, sigma, rho, kappa))"
      ]
    },
    {
      "cell_type": "code",
      "execution_count": null,
      "metadata": {
        "id": "2INUxso59IdV"
      },
      "outputs": [],
      "source": [
        "def differential_wrt_rho(lm, r, tau, theta, sigma, rho, kappa, v0):\n",
        "    m = lm + r*tau  #log-moneyness forward\n",
        "    integrand = (lambda u: \n",
        "        np.real(np.exp((1j*u + 0.5)*m) * differential_phi_rho(u - 0.5j, tau, theta, sigma, rho, kappa, v0))/(u**2 + 0.25))\n",
        "\n",
        "    integ, err = quad_vec(integrand, 0, np.inf)\n",
        "    return (-1/np.pi) * integ   "
      ]
    },
    {
      "cell_type": "markdown",
      "metadata": {
        "id": "wSGTOaBjF38H"
      },
      "source": [
        "## 3.7. $\\frac{\\partial \\hat{P}}{\\partial \\sigma}$"
      ]
    },
    {
      "cell_type": "code",
      "execution_count": null,
      "metadata": {
        "id": "V9M-vePCIWV1"
      },
      "outputs": [],
      "source": [
        "def differential_ln_sigma(u, tau, sigma, rho, kappa):\n",
        "    beta = beta_function(u, tau, sigma, rho, kappa)\n",
        "    d = d_function(u, tau, sigma, rho, kappa)\n",
        "    g = g_function(u, tau, sigma, rho, kappa)\n",
        "    alpha_hat = alpha_hat_function(u)    \n",
        "\n",
        "    res= ((2j*u*rho*((beta**2)-(d**2))+4*beta*alpha_hat*sigma)*((g-1)*np.exp(-d*tau)-g*np.exp(-d*tau)+1)+\n",
        "          (g-1)*np.exp(-d*tau)*tau*g*((beta+d)**2)*(1j*u*rho*beta+2*alpha_hat*sigma))/(d*((beta+d)**2)*(g-1)*(g*np.exp(-d*tau)-1))\n",
        "    return res"
      ]
    },
    {
      "cell_type": "code",
      "execution_count": null,
      "metadata": {
        "id": "a2HO9CNVGeUt"
      },
      "outputs": [],
      "source": [
        "def differential_A_sigma(u, tau, theta, sigma, rho, kappa):\n",
        "    beta = beta_function(u, tau, sigma, rho, kappa)\n",
        "    d = d_function(u, tau, sigma, rho, kappa)\n",
        "    g = g_function(u, tau, sigma, rho, kappa)\n",
        "    A_u = A_function(u, tau, theta, sigma, rho, kappa)\n",
        "    diff_ln_sigma = differential_ln_sigma(u, tau, sigma, rho, kappa)\n",
        "    alpha_hat = alpha_hat_function(u)\n",
        "\n",
        "    res = -2*A_u/sigma + kappa*theta/(sigma**2)*(-1j*u*tau*rho+tau*(1j*u*rho*beta+2*alpha_hat*sigma)/d - 2*diff_ln_sigma)\n",
        "    return res "
      ]
    },
    {
      "cell_type": "code",
      "execution_count": null,
      "metadata": {
        "id": "p5dZDW1moCcc"
      },
      "outputs": [],
      "source": [
        "def differential_quotient_sigma(u, tau, sigma, rho, kappa):\n",
        "    beta = beta_function(u, tau, sigma, rho, kappa)\n",
        "    d = d_function(u, tau, sigma, rho, kappa)\n",
        "    g = g_function(u, tau, sigma, rho, kappa)\n",
        "    alpha_hat = alpha_hat_function(u)\n",
        "\n",
        "    res = ((np.exp(-d*tau)*(1j*u*rho*beta+2*alpha_hat*sigma))*(-tau*((beta+d)**2)*(1-g*np.exp(-d*tau))+(1-np.exp(-d*tau))*(2*beta+tau*g*((beta+d)**2)))\n",
        "     - 2j*u*rho*(d**2)*np.exp(-d*tau)*(1-np.exp(-d*tau))) / (d*((beta+d)**2)*((1-g*np.exp(-d*tau))**2))\n",
        "    return res"
      ]
    },
    {
      "cell_type": "code",
      "execution_count": null,
      "metadata": {
        "id": "bMJxvhurG0vf"
      },
      "outputs": [],
      "source": [
        "def differential_B_sigma(u, tau, sigma, rho, kappa):\n",
        "    beta = beta_function(u, tau, sigma, rho, kappa)\n",
        "    d = d_function(u, tau, sigma, rho, kappa)\n",
        "    g = g_function(u, tau, sigma, rho, kappa)\n",
        "    alpha_hat = alpha_hat_function(u)\n",
        "    \n",
        "    diff_quot_sigma = differential_quotient_sigma(u, tau, sigma, rho, kappa)\n",
        "    res = ((1-np.exp(-d*tau))*(sigma*(-1j*u*rho*d+1j*u*rho*beta+2*alpha_hat*sigma)-2*d*(beta-d))) / (d*(sigma**3)*(1-g*np.exp(-d*tau))) + (beta-d)/(sigma**2)*diff_quot_sigma\n",
        "    return res"
      ]
    },
    {
      "cell_type": "code",
      "execution_count": null,
      "metadata": {
        "id": "HI4h5-NhGVP2"
      },
      "outputs": [],
      "source": [
        "def differential_phi_sigma(u, tau, theta, sigma, rho, kappa, v0):\n",
        "    return heston_charact_funct(u, tau, theta, sigma, rho, kappa, v0) * (differential_A_sigma(u, tau, theta, sigma, rho, kappa) +\n",
        "                                                                         v0 * differential_B_sigma(u, tau, sigma, rho, kappa))"
      ]
    },
    {
      "cell_type": "code",
      "execution_count": null,
      "metadata": {
        "id": "M2gbrjccF_ta"
      },
      "outputs": [],
      "source": [
        "def differential_wrt_sigma(lm, r, tau, theta, sigma, rho, kappa, v0):  \n",
        "    m = lm + r*tau  #log-moneyness forward      \n",
        "    integrand = (lambda u: \n",
        "        np.real(np.exp((1j*u + 0.5)*m) * differential_phi_sigma(u - 0.5j, tau, theta, sigma, rho, kappa, v0))/(u**2 + 0.25))\n",
        "\n",
        "    integ, err = quad_vec(integrand, 0, np.inf)\n",
        "    return (-1/np.pi) * integ   "
      ]
    },
    {
      "cell_type": "markdown",
      "metadata": {
        "id": "kmYXMce5CTja"
      },
      "source": [
        "## 3.4. $\\frac{\\partial \\hat{P}}{\\partial r}$"
      ]
    },
    {
      "cell_type": "code",
      "execution_count": null,
      "metadata": {
        "id": "XKS1yWM5Cg6X"
      },
      "outputs": [],
      "source": [
        "def differential_wrt_r(lm, r, tau, theta, sigma, rho, kappa, v0):\n",
        "    diff_wrt_lm = differential_wrt_lm(lm, r, tau, theta, sigma, rho, kappa, v0)\n",
        "    return tau * diff_wrt_lm"
      ]
    },
    {
      "cell_type": "markdown",
      "metadata": {
        "id": "yRuQW4XtPXsK"
      },
      "source": [
        "# <strong> 4. Data generation </strong>"
      ]
    },
    {
      "cell_type": "markdown",
      "metadata": {
        "id": "EKp5XWuYJE2U"
      },
      "source": [
        "## <Strong><font> 4.1. Inputs generation </font></Strong> "
      ]
    },
    {
      "cell_type": "markdown",
      "metadata": {
        "id": "4nvKGodrPsJH"
      },
      "source": [
        "Latin Hypercube Sampling\n",
        "\n",
        "$\\theta$, $\\sigma$, $\\kappa$, $\\rho$ parameters, $v_0$, Log moneyness $lm=\\ln(S_0/K)$, the time to maturity $\\tau$ and $r$ will be sampled via Latin Hypercube Sampling (LHS) technique. \n",
        "\n",
        "In the following, we will use two modules to perform the LHS: *scipy.stats.qmc* and *smt.sampling_methods.LHS*. We will calculate the exact time every program takes to sample 10 points and keep the one with less time to generate the inputs."
      ]
    },
    {
      "cell_type": "code",
      "execution_count": null,
      "metadata": {
        "colab": {
          "base_uri": "https://localhost:8080/"
        },
        "id": "EaiNoZTKpGnU",
        "outputId": "8c2a8931-bea0-41cd-be94-2abf69569004"
      },
      "outputs": [
        {
          "name": "stdout",
          "output_type": "stream",
          "text": [
            "The exact time  the program takes to finish running: 0.0020979999999966026 seconds \n"
          ]
        },
        {
          "name": "stderr",
          "output_type": "stream",
          "text": [
            "/usr/local/lib/python3.7/dist-packages/ipykernel_launcher.py:5: DeprecationWarning: time.clock has been deprecated in Python 3.3 and will be removed from Python 3.8: use time.perf_counter or time.process_time instead\n",
            "  \"\"\"\n",
            "/usr/local/lib/python3.7/dist-packages/ipykernel_launcher.py:13: DeprecationWarning: time.clock has been deprecated in Python 3.3 and will be removed from Python 3.8: use time.perf_counter or time.process_time instead\n",
            "  del sys.path[0]\n"
          ]
        }
      ],
      "source": [
        "# LHS using smt.sampling_methods.LHS\n",
        "\n",
        "# A sample consists of a row in the form (lm, r, tau, theta, sigma, rho, kappa, v0)\n",
        "\n",
        "start_time = time.clock()\n",
        "\n",
        "bounds = np.array([[-2.,2.], [-0.01,0.10], [0.05,20], [0.0,1.], [0.1,2.], [-0.90,0.0], [0.005,3.], [0.,1.]])\n",
        "sampling = LHS(xlimits=bounds, random_state=42)\n",
        "\n",
        "n_samples = 10\n",
        "samples = sampling(n_samples)\n",
        "\n",
        "print(\"The exact time  the program takes to finish running: %s seconds \" % (time.clock() - start_time))\n",
        "#print(samples)"
      ]
    },
    {
      "cell_type": "code",
      "execution_count": null,
      "metadata": {
        "colab": {
          "base_uri": "https://localhost:8080/"
        },
        "id": "leJ3aXbc0QVm",
        "outputId": "d13940f0-b499-4a70-a243-d8c8f52ccd8a"
      },
      "outputs": [
        {
          "name": "stdout",
          "output_type": "stream",
          "text": [
            "The exact time  the program takes to finish running: 0.0017220000000008895 seconds \n"
          ]
        },
        {
          "name": "stderr",
          "output_type": "stream",
          "text": [
            "/usr/local/lib/python3.7/dist-packages/ipykernel_launcher.py:4: DeprecationWarning: time.clock has been deprecated in Python 3.3 and will be removed from Python 3.8: use time.perf_counter or time.process_time instead\n",
            "  after removing the cwd from sys.path.\n",
            "/usr/local/lib/python3.7/dist-packages/ipykernel_launcher.py:13: DeprecationWarning: time.clock has been deprecated in Python 3.3 and will be removed from Python 3.8: use time.perf_counter or time.process_time instead\n",
            "  del sys.path[0]\n"
          ]
        }
      ],
      "source": [
        "# LHS using scipy.stats.qmc\n",
        "# A sample consists of a row in the form (lm, r, tau, theta, sigma, rho, kappa, v0)\n",
        "\n",
        "start_time = time.clock()  \n",
        "\n",
        "sampler = qmc.LatinHypercube(d=8, seed=42) # 6 variables\n",
        "samples = sampler.random(n=10) # n samples\n",
        "\n",
        "lower_bounds = [-2., -0.01, 0.05, 0.0, 0.1, -0.90, 0.005, 0.] \n",
        "upper_bounds = [2., 0.10, 20., 1.0, 2., 0.0, 3., 1.]\n",
        "inputs_array = qmc.scale(samples, lower_bounds, upper_bounds)\n",
        "\n",
        "print(\"The exact time  the program takes to finish running: %s seconds \" % (time.clock() - start_time))\n",
        "#print(inputs_array)"
      ]
    },
    {
      "cell_type": "markdown",
      "metadata": {
        "id": "dFsjsO8EergL"
      },
      "source": [
        "Note that *scipy.stats.qmc* module takes less time than *smt.sampling_methods.LHS*, therefore, inputs generation will be performed using *scipy.stats.qmc* module. "
      ]
    },
    {
      "cell_type": "markdown",
      "metadata": {
        "id": "rub4cM30Vi5y"
      },
      "source": [
        "We will generate 100 000 (100K) samples. "
      ]
    },
    {
      "cell_type": "code",
      "execution_count": null,
      "metadata": {
        "id": "JCXEQWPla12V"
      },
      "outputs": [],
      "source": [
        "def generate_inputs(d, n, lower_bounds, upper_bounds, feller=False):\n",
        "    \n",
        "    sampler = qmc.LatinHypercube(d, seed=42) # d variables    \n",
        "    samples = sampler.random(n) # n samples\n",
        "    inputs_array = qmc.scale(samples, lower_bounds, upper_bounds)\n",
        "    \n",
        "    if feller:\n",
        "        #Selecting samples that satisfy the Feller condition        \n",
        "        inputs_array = inputs_array[np.where(2*inputs_array[:,6]*inputs_array[:,3] > (inputs_array[:,4])**2)]\n",
        "\n",
        "    return inputs_array"
      ]
    },
    {
      "cell_type": "markdown",
      "metadata": {
        "id": "vBTRjev2h4Oi"
      },
      "source": [
        "## <Strong><font> 4.2. Labels and their differentials w.r.t inputs generation </font></Strong> "
      ]
    },
    {
      "cell_type": "code",
      "execution_count": null,
      "metadata": {
        "id": "UrP-REeCcTqi"
      },
      "outputs": [],
      "source": [
        "def generate_labels_difflabels(inputs_array):\n",
        "    start_time = time.clock()\n",
        "\n",
        "    # array containing labels and its differentials\n",
        "    labels_difflabels_array = np.zeros((inputs_array.shape[0],inputs_array.shape[1]+1))\n",
        "\n",
        "    for row in range(inputs_array.shape[0]):\n",
        "\n",
        "        lm = inputs_array[row][0] \n",
        "        r = inputs_array[row][1]\n",
        "        tau = inputs_array[row][2]\n",
        "        theta = inputs_array[row][3]\n",
        "        sigma = inputs_array[row][4]\n",
        "        rho = inputs_array[row][5]      \n",
        "        kappa = inputs_array[row][6]\n",
        "        v0 = inputs_array[row][7]    \n",
        "\n",
        "        p_hat = norm_forw_put_price(lm, r, tau, theta,sigma, rho, kappa, v0)\n",
        "        diff_wrt_lm = differential_wrt_lm(lm, r, tau, theta,sigma, rho, kappa, v0)\n",
        "        diff_wrt_r = differential_wrt_r(lm, r, tau, theta,sigma, rho, kappa, v0)\n",
        "        diff_wrt_tau = differential_wrt_tau(lm, r, tau, theta,sigma, rho, kappa, v0)\n",
        "        diff_wrt_theta = differential_wrt_theta(lm, r, tau, theta,sigma, rho, kappa, v0)\n",
        "        diff_wrt_sigma = differential_wrt_sigma(lm, r, tau, theta,sigma, rho, kappa, v0)\n",
        "        diff_wrt_rho = differential_wrt_rho(lm, r, tau, theta,sigma, rho, kappa, v0)  \n",
        "        diff_wrt_kappa = differential_wrt_kappa(lm, r, tau, theta,sigma, rho, kappa, v0)    \n",
        "        diff_wrt_v0 = differential_wrt_v0(lm, r, tau, theta,sigma, rho, kappa, v0)             \n",
        "\n",
        "        labels_difflabels_array[row][0] = p_hat \n",
        "        labels_difflabels_array[row][1] = diff_wrt_lm\n",
        "        labels_difflabels_array[row][2] = diff_wrt_r\n",
        "        labels_difflabels_array[row][3] = diff_wrt_tau\n",
        "        labels_difflabels_array[row][4] = diff_wrt_theta\n",
        "        labels_difflabels_array[row][5] = diff_wrt_sigma\n",
        "        labels_difflabels_array[row][6] = diff_wrt_rho\n",
        "        labels_difflabels_array[row][7] = diff_wrt_kappa\n",
        "        labels_difflabels_array[row][8] = diff_wrt_v0          \n",
        "\n",
        "    print(\"The exact time  the program takes to finish running:\", time.strftime('%H:%M:%S', time.gmtime(time.clock() - start_time))) \n",
        "    return labels_difflabels_array\n"
      ]
    },
    {
      "cell_type": "markdown",
      "metadata": {
        "id": "fmXWczJXajK-"
      },
      "source": [
        "## <Strong><font> 4.3. Dataset generation </font></Strong> "
      ]
    },
    {
      "cell_type": "code",
      "execution_count": null,
      "metadata": {
        "id": "jd6hmhGokYbQ"
      },
      "outputs": [],
      "source": [
        "def generate_data(d, n, lower_bounds, upper_bounds, feller, first_samples=100000):\n",
        "\n",
        "    inputs_array = generate_inputs(d, n, lower_bounds, upper_bounds, feller)\n",
        "    if feller:\n",
        "        #extract first 100000 samples\n",
        "        #inputs_array=inputs_array[0:100000, :]\n",
        "        inputs_array=inputs_array[0:first_samples, :]\n",
        "\n",
        "    labels_difflabels_array = generate_labels_difflabels(inputs_array)\n",
        "\n",
        "     \n",
        "    # Convert the inputs array to a dataframe\n",
        "    df_inputs = pd.DataFrame(inputs_array, columns=['lm', 'r', 'tau', 'theta', 'sigma', 'rho', 'kappa', 'v0'])\n",
        "\n",
        "    # Convert the array containing labels and its differentials to a dataframe\n",
        "    df_labels_difflabels = pd.DataFrame(labels_difflabels_array, columns=[\"p_hat\", \"diff wrt lm\", \"diff wrt r\", \"diff wrt tau\", \"diff wrt theta\",\n",
        "                                                \"diff wrt sigma\", \"diff wrt rho\", \"diff wrt kappa\", \"diff wrt v0\"])\n",
        "    # put the whole data into a dataframe\n",
        "    df_dataset = pd.concat([df_inputs, df_labels_difflabels], axis=1)     \n",
        "    \n",
        "        \n",
        "    return df_dataset"
      ]
    },
    {
      "cell_type": "markdown",
      "metadata": {
        "id": "7ZqBZ36Gri13"
      },
      "source": [
        "### 4.3.1 Data generation when the Feller condition is breached\n",
        "\n",
        "The following algorithm takes 10 hours, 34 minutes and 24 seconds."
      ]
    },
    {
      "cell_type": "code",
      "execution_count": null,
      "metadata": {
        "id": "Yg-ko8rfrpZG"
      },
      "outputs": [],
      "source": [
        "# A sample consists of a row in the form (lm, r, tau, theta, sigma, rho, kappa, v0)\n",
        "#lower_bounds = [-2., -0.01, 0.05, 0.0, 0.1, -0.90, 0.005, 0.] \n",
        "#upper_bounds = [2., 0.10, 20., 1.0, 2., 0.0, 3., 1.]\n",
        "\n",
        "df_nofeller = generate_data(d=8, n=100000,                                      \n",
        "                                     lower_bounds=[-2., -0.01, 0.05, 0.0, 0.1, -0.90, 0.005, 0.], \n",
        "                                     upper_bounds=[2., 0.10, 20., 1.0, 2., 0.0, 3., 1.],\n",
        "                                     feller=False)\n",
        "\n",
        "# # Saving datasets into CSV files\n",
        "os.makedirs('data', exist_ok=True)\n",
        "df_nofeller.to_csv('data/dataset_100K_nofeller.csv', sep=',', index=False)"
      ]
    },
    {
      "cell_type": "markdown",
      "metadata": {
        "id": "mVSFeIPKsKs3"
      },
      "source": [
        "### 4.3.2 Data generation when the Feller condition is satisfied \n",
        "\n",
        "The following algorithm takes 9 hours, 14 minutes and 51 seconds."
      ]
    },
    {
      "cell_type": "code",
      "execution_count": null,
      "metadata": {
        "id": "Gi57hAmlsKs3"
      },
      "outputs": [],
      "source": [
        "# A sample consists of a row in the form (lm, r, tau, theta, sigma, rho, kappa, v0)\n",
        "#lower_bounds = [-2., -0.01, 0.05, 0.0, 0.1, -0.90, 0.005, 0.] \n",
        "#upper_bounds = [2., 0.10, 20., 1.0, 2., 0.0, 3., 1.]\n",
        "\n",
        "df_feller = generate_data(d=8, n=100000, \n",
        "                                   lower_bounds=[-2., -0.01, 0.05, 0.0, 0.1, -0.90, 0.005, 0.], \n",
        "                                   upper_bounds=[2., 0.10, 20., 1.0, 2., 0.0, 3., 1.],\n",
        "                                   feller=True)\n",
        "\n",
        "# # Saving datasets into CSV files\n",
        "os.makedirs('data', exist_ok=True)\n",
        "df_feller.to_csv('data/dataset_100K_feller.csv', sep=',', index=False)"
      ]
    }
  ],
  "metadata": {
    "colab": {
      "collapsed_sections": [],
      "name": "DataGeneration.ipynb",
      "provenance": []
    },
    "kernelspec": {
      "display_name": "Python 3",
      "name": "python3"
    },
    "language_info": {
      "codemirror_mode": {
        "name": "ipython",
        "version": 3
      },
      "file_extension": ".py",
      "mimetype": "text/x-python",
      "name": "python",
      "nbconvert_exporter": "python",
      "pygments_lexer": "ipython3",
      "version": "3.9.10"
    }
  },
  "nbformat": 4,
  "nbformat_minor": 0
}
